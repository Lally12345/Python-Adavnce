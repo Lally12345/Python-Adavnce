{
 "cells": [
  {
   "cell_type": "markdown",
   "id": "62fd4f6a",
   "metadata": {},
   "source": [
    "Q1. Which two operator overloading methods can you use in your classes to support iteration?\n",
    "\n",
    "__iter__ and __next__ are the operator overloading methods in python that suport iteration and are collectively called iterator rotocol"
   ]
  },
  {
   "cell_type": "markdown",
   "id": "d4af6aaf",
   "metadata": {},
   "source": [
    "Q2. In what contexts do the two operator overloading methods manage printing?\n",
    "\n",
    "__ste__ and __repr__ are two operator overloading methods that manage printong.\n",
    "\n",
    "The difference between both of these operator is The goal of __repr__ is to be unambigous and __str__ is to be readable."
   ]
  },
  {
   "cell_type": "markdown",
   "id": "361c6ebe",
   "metadata": {},
   "source": [
    "Q3. In a class, how do you intercept slice operations?\n",
    "\n",
    "in a class use of slice(), __getitem__ methods is used for intercept slice operation this slice method is provided with start integer number stop integer number and step integer number."
   ]
  },
  {
   "cell_type": "markdown",
   "id": "bbcc4bd7",
   "metadata": {},
   "source": [
    "Q4. In a class, how do you capture in-place addition?\n",
    "\n",
    "a+b is normal addition whereas a+= is inplace addition operation in this in-place addition a itself will store the value of addition. __iadd__ method is used for this in-place operation."
   ]
  },
  {
   "cell_type": "markdown",
   "id": "cbc3fd10",
   "metadata": {},
   "source": [
    "Q5. When is it appropriate to use operator overloading?\n",
    "\n",
    "operator overloading is used when we want to use an operator other than its normal operation to have different meaning accroding to the context in user defined function."
   ]
  }
 ],
 "metadata": {
  "kernelspec": {
   "display_name": "Python 3 (ipykernel)",
   "language": "python",
   "name": "python3"
  },
  "language_info": {
   "codemirror_mode": {
    "name": "ipython",
    "version": 3
   },
   "file_extension": ".py",
   "mimetype": "text/x-python",
   "name": "python",
   "nbconvert_exporter": "python",
   "pygments_lexer": "ipython3",
   "version": "3.9.7"
  }
 },
 "nbformat": 4,
 "nbformat_minor": 5
}
