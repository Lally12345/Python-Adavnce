{
 "cells": [
  {
   "cell_type": "markdown",
   "id": "e6efa38d",
   "metadata": {},
   "source": [
    "Q1. What is the concept of a metaclass?\n",
    "\n",
    "A class is itself a instance of metaclass, and any instance of class in python is an instance of type metaclass eg. type of int, float, list,tuple and many more of meta class type."
   ]
  },
  {
   "cell_type": "markdown",
   "id": "939f6223",
   "metadata": {},
   "source": [
    "Q2. What is the best way to declare a class&#39;s metaclass?\n",
    "\n",
    "A way to declare a class metaclass is by using metaclasss keyword in class defination."
   ]
  },
  {
   "cell_type": "markdown",
   "id": "514989fe",
   "metadata": {},
   "source": [
    "Q3. How do class decorators overlap with metaclasses for handling classes?\n",
    "\n",
    "Anything you can do with a class decorator, you can of course do with a custom metaclass (just applying the functionality of the decorator function)"
   ]
  },
  {
   "cell_type": "markdown",
   "id": "0750e22d",
   "metadata": {},
   "source": [
    "Q4. How do class decorators overlap with metaclasses for handling instances?\n",
    "\n",
    "Anything you can do with a class decorator, you can of course do with a custom metaclass (just applying the functionality of the decorator function)"
   ]
  }
 ],
 "metadata": {
  "kernelspec": {
   "display_name": "Python 3 (ipykernel)",
   "language": "python",
   "name": "python3"
  },
  "language_info": {
   "codemirror_mode": {
    "name": "ipython",
    "version": 3
   },
   "file_extension": ".py",
   "mimetype": "text/x-python",
   "name": "python",
   "nbconvert_exporter": "python",
   "pygments_lexer": "ipython3",
   "version": "3.9.7"
  }
 },
 "nbformat": 4,
 "nbformat_minor": 5
}
