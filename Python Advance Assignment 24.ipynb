{
 "cells": [
  {
   "cell_type": "markdown",
   "id": "e8b7d144",
   "metadata": {},
   "source": [
    "Q1. Is it permissible to use several import statements to import the same module? What would the\n",
    "goal be? Can you think of a situation where it would be beneficial?\n",
    "\n",
    "Yes it is permissible to use several import statement to import the same module. it is used in case when we have to import multiple function from same midule."
   ]
  },
  {
   "cell_type": "markdown",
   "id": "ef6df6cb",
   "metadata": {},
   "source": [
    "Q2. What are some of a module&#39;s characteristics? (Name at least one.)\n",
    "\n",
    "1. __name__: it returns the name of the module\n",
    "2. __doc__: it denotes the documentation string line written in a odule code\n",
    "3. __file__: it holds the name and path of the module file from which it is located."
   ]
  },
  {
   "cell_type": "markdown",
   "id": "f6ff0e85",
   "metadata": {},
   "source": [
    "Q4. Why is _ _all_ _ in Python?\n",
    "\n",
    "it provides the list of all module present in alibrary."
   ]
  },
  {
   "cell_type": "markdown",
   "id": "97be077d",
   "metadata": {},
   "source": [
    "Q5. In what situation is it useful to refer to the _ _name_ _ attribute or the string &#39;_ _main_ _&#39;?\n",
    "\n",
    "During the time of execution of the code , if we want to refer the module in which we are working on then we use __name__ attribute."
   ]
  }
 ],
 "metadata": {
  "kernelspec": {
   "display_name": "Python 3 (ipykernel)",
   "language": "python",
   "name": "python3"
  },
  "language_info": {
   "codemirror_mode": {
    "name": "ipython",
    "version": 3
   },
   "file_extension": ".py",
   "mimetype": "text/x-python",
   "name": "python",
   "nbconvert_exporter": "python",
   "pygments_lexer": "ipython3",
   "version": "3.9.7"
  }
 },
 "nbformat": 4,
 "nbformat_minor": 5
}
