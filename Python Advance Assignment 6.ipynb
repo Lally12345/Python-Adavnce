{
 "cells": [
  {
   "cell_type": "markdown",
   "id": "b128460d",
   "metadata": {},
   "source": [
    "Q1. Describe three applications for exception processing.\n"
   ]
  },
  {
   "cell_type": "markdown",
   "id": "d98fcc05",
   "metadata": {},
   "source": [
    "1.Checking appropriate use of input in an application\n",
    "2.Checking for arithmetic exception in mathematical execution.\n",
    "3.Checking file/i/o ecception during file handling."
   ]
  },
  {
   "cell_type": "markdown",
   "id": "25029da1",
   "metadata": {},
   "source": [
    "Q2. What happens if you don&#39;t do something extra to treat an exception?\n",
    "\n",
    "If exception are not handled flow of program will be broken during the run time which might lead to an abnormal termination of the programm."
   ]
  },
  {
   "cell_type": "markdown",
   "id": "ae839eaf",
   "metadata": {},
   "source": [
    "Q3. What are your options for recovering from an exception in your script?\n",
    "\n",
    "python provides try and xcept statement for recovering dfrom an exception in our script."
   ]
  },
  {
   "cell_type": "markdown",
   "id": "7c88b5d7",
   "metadata": {},
   "source": [
    "Q4. Describe two methods for triggering exceptions in your script.\n",
    "\n",
    "raise and assert are two methods that can be used to trigger manual exception in our script."
   ]
  },
  {
   "cell_type": "markdown",
   "id": "006a0e38",
   "metadata": {},
   "source": [
    "Q5. Identify two methods for specifying actions to be executed at termination time, regardless of\n",
    "whether or not an exception exists.\n",
    "\n",
    "python provides else and finally blocks for specifying actions to be executed at termination time, regardless of whether an exception exists or not."
   ]
  },
  {
   "cell_type": "code",
   "execution_count": null,
   "id": "8be49f73",
   "metadata": {},
   "outputs": [],
   "source": []
  }
 ],
 "metadata": {
  "kernelspec": {
   "display_name": "Python 3 (ipykernel)",
   "language": "python",
   "name": "python3"
  },
  "language_info": {
   "codemirror_mode": {
    "name": "ipython",
    "version": 3
   },
   "file_extension": ".py",
   "mimetype": "text/x-python",
   "name": "python",
   "nbconvert_exporter": "python",
   "pygments_lexer": "ipython3",
   "version": "3.9.7"
  }
 },
 "nbformat": 4,
 "nbformat_minor": 5
}
