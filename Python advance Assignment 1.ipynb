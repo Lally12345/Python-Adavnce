{
 "cells": [
  {
   "cell_type": "markdown",
   "id": "b4e66e4f",
   "metadata": {},
   "source": [
    "Q1. What is the purpose of Python&#39;s OOP?"
   ]
  },
  {
   "cell_type": "markdown",
   "id": "587be9e4",
   "metadata": {},
   "source": [
    "Object Oriented programming is a programming paradigm that provides a mean of structureing program\n",
    "In python OPPS uses object and classes in programming\n",
    "it aims to implement real world entities like inheritance polymorphisms and encapsulations\n"
   ]
  },
  {
   "cell_type": "markdown",
   "id": "1c48ce07",
   "metadata": {},
   "source": [
    "Q2. Where does an inheritance search look for an attribute?\n",
    "\n",
    "Python searches for an attribute in an upward tree of attributes it first searches for the attribute in its instance and then looks in the class it is generated from to all super classes listed in its class header.\n"
   ]
  },
  {
   "cell_type": "markdown",
   "id": "1d3b29f1",
   "metadata": {},
   "source": [
    "Q3. How do you distinguish between a class object and an instance object?\n",
    "\n",
    "The difference between class object and instance object are\n",
    "\n",
    "1. class is a template for creating objects is an instance of class\n",
    "2.A class is created once many objects are created using a class.\n",
    "3.A class have no allocated memory they cant be manipulated but object can be manipulated.\n"
   ]
  },
  {
   "cell_type": "markdown",
   "id": "f6077dfa",
   "metadata": {},
   "source": [
    "Q4. What makes the first argument in a class’s method function special?\n",
    "\n",
    "1. Instance method (object level method)\n",
    "2. class method (class level method)\n",
    "3. staic metjods (general utility methods)\n"
   ]
  },
  {
   "cell_type": "markdown",
   "id": "d6f4e3f5",
   "metadata": {},
   "source": [
    "Q4. What makes the first argument in a class’s method function special?\n",
    "\n",
    "_init_ is a reserved method in python classes it serves the role of a constructor in object oriented terminology. this method is called when an object is created from a class and it allows the class."
   ]
  },
  {
   "cell_type": "markdown",
   "id": "408caced",
   "metadata": {},
   "source": [
    " Q6. What is the process for creating a class instance?\n",
    "\n",
    "To create a class instance we need to call the class by its name and pass the arguments to the class which its init method accepts."
   ]
  },
  {
   "cell_type": "markdown",
   "id": "1d8c87a0",
   "metadata": {},
   "source": [
    "Q7. What is the process for creating a class?\n",
    "\n",
    "Class Keyword uses to created a class in python the syntax to create a class in python is class<classname>"
   ]
  },
  {
   "cell_type": "markdown",
   "id": "28066a67",
   "metadata": {},
   "source": [
    "Q8. How would you define the superclasses of a class?\n",
    "\n",
    "Superclass/parent class is given to the child classs."
   ]
  },
  {
   "cell_type": "code",
   "execution_count": null,
   "id": "db84c7b4",
   "metadata": {},
   "outputs": [],
   "source": []
  }
 ],
 "metadata": {
  "kernelspec": {
   "display_name": "Python 3 (ipykernel)",
   "language": "python",
   "name": "python3"
  },
  "language_info": {
   "codemirror_mode": {
    "name": "ipython",
    "version": 3
   },
   "file_extension": ".py",
   "mimetype": "text/x-python",
   "name": "python",
   "nbconvert_exporter": "python",
   "pygments_lexer": "ipython3",
   "version": "3.9.7"
  }
 },
 "nbformat": 4,
 "nbformat_minor": 5
}
