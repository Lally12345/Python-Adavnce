{
 "cells": [
  {
   "cell_type": "markdown",
   "id": "6a2f0343",
   "metadata": {},
   "source": [
    "Q1. What is the meaning of multiple inheritance?\n",
    "\n",
    "Multiple inheritance means that a subclass can inherit from two or more superclass. c++ allows multiple inheritance but java allows only single inheritance."
   ]
  },
  {
   "cell_type": "markdown",
   "id": "5f0407aa",
   "metadata": {},
   "source": [
    "Q2. What is the concept of delegation?\n",
    "\n",
    "The deligation pattern is an object oriented design pattern that allows object composition to achive the same coe reuse as inheritance. "
   ]
  },
  {
   "cell_type": "markdown",
   "id": "023fdee8",
   "metadata": {},
   "source": [
    "Q3. What is the concept of composition?\n",
    "\n",
    "Composition is the design technque in object oriented progemming to implement has a relationship between ojects."
   ]
  },
  {
   "cell_type": "markdown",
   "id": "aafc6b86",
   "metadata": {},
   "source": [
    "Q4. What are bound methods and how do we use them?\n",
    "\n",
    "\n",
    "if a function is an attributes of class and it is accessed via the instances they are called bound methods A bound methods is one that has self as its first argument since these are dependent on. the instances of classes these are also known instance methods.\n"
   ]
  },
  {
   "cell_type": "markdown",
   "id": "8fdb4f0a",
   "metadata": {},
   "source": [
    "Q5. What is the purpose of pseudoprivate attributes?\n",
    "\n",
    "pseudoprivate attributes are also useful in larger framework or tools. both to avoid introducing new method means that might accidently hide definations\n",
    "elsewhere inthe class three and to reduce the chance of internal methods being replaced by names defined lower in the tree.\n"
   ]
  }
 ],
 "metadata": {
  "kernelspec": {
   "display_name": "Python 3 (ipykernel)",
   "language": "python",
   "name": "python3"
  },
  "language_info": {
   "codemirror_mode": {
    "name": "ipython",
    "version": 3
   },
   "file_extension": ".py",
   "mimetype": "text/x-python",
   "name": "python",
   "nbconvert_exporter": "python",
   "pygments_lexer": "ipython3",
   "version": "3.9.7"
  }
 },
 "nbformat": 4,
 "nbformat_minor": 5
}
