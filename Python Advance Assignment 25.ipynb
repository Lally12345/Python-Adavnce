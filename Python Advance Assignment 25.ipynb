{
 "cells": [
  {
   "cell_type": "markdown",
   "id": "dba60139",
   "metadata": {},
   "source": [
    "Q1. What is the distinction between a numpy array and a pandas data frame? Is there a way to\n",
    "convert between the two if there is?\n",
    "\n",
    "Numpy ndarry provids a lot of convenient and optimized methods for performance several mathematical operations on vectors."
   ]
  },
  {
   "cell_type": "markdown",
   "id": "57a41188",
   "metadata": {},
   "source": [
    "Q2. What can go wrong when an user enters in a stock-ticker symbol, and how do you handle it?\n",
    "\n",
    "Bar chart, Line chart, candlestick chart are using for plotting stock market chart."
   ]
  },
  {
   "cell_type": "markdown",
   "id": "ce7dbd5f",
   "metadata": {},
   "source": [
    "Q3. Identify some of the plotting techniques that are used to produce a stock-market chart.\n",
    "\n",
    "Legend will help us in comparing differnt stocks in a stock market chart. each plot of a stock chart has a legend its items representing the series on the plot in addition the legend display informations about the ponts that are currently hovered over."
   ]
  },
  {
   "cell_type": "markdown",
   "id": "0c1a9a89",
   "metadata": {},
   "source": [
    "Q4. Why is it essential to print a legend on a stock market chart?\n",
    "\n",
    "\n",
    "We can use start and end parameters for that  in start we write the date from where we are starting and at the end we write the end date.\n",
    "So within this span we can restrict the duration."
   ]
  },
  {
   "cell_type": "markdown",
   "id": "807d7222",
   "metadata": {},
   "source": [
    "Q5. What is the best way to limit the length of a pandas data frame to less than a year?\n",
    "\n",
    "\n",
    "The 180 days moving average is represented as aline on chart and represents the avaerage price over the past 180 days. the moving avaerage can give traders a sence regarding whether the trend is up or down."
   ]
  },
  {
   "cell_type": "code",
   "execution_count": null,
   "id": "ef1bfc30",
   "metadata": {},
   "outputs": [],
   "source": []
  }
 ],
 "metadata": {
  "kernelspec": {
   "display_name": "Python 3 (ipykernel)",
   "language": "python",
   "name": "python3"
  },
  "language_info": {
   "codemirror_mode": {
    "name": "ipython",
    "version": 3
   },
   "file_extension": ".py",
   "mimetype": "text/x-python",
   "name": "python",
   "nbconvert_exporter": "python",
   "pygments_lexer": "ipython3",
   "version": "3.9.7"
  }
 },
 "nbformat": 4,
 "nbformat_minor": 5
}
