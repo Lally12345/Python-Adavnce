{
 "cells": [
  {
   "cell_type": "markdown",
   "id": "bc970630",
   "metadata": {},
   "source": [
    "Q1. Describe the differences between text and binary files in a single paragraph.\n",
    "\n",
    "Text files are special subset of binary files but that are used to store human readablecharacters.\n",
    "where as binary files are those type files store data in the form of sequence of bytes grouped into 8 bit or 16 bits."
   ]
  },
  {
   "cell_type": "markdown",
   "id": "54407169",
   "metadata": {},
   "source": [
    "Q3. What are some of the issues with using binary operations to read and write a Python integer\n",
    "directly to disc?\n",
    "\n",
    "1.Binary operations deal with raw data\n",
    "2.One needs to identify how many bytes would read or write."
   ]
  },
  {
   "cell_type": "markdown",
   "id": "6d84491b",
   "metadata": {},
   "source": [
    "Q5. Does Python have the trailing newline while reading a line of text? Does Python append a\n",
    "newline when you write a line of text?\n",
    "\n",
    "Yes pyton have the trailing newline while reading a line of text. "
   ]
  },
  {
   "cell_type": "markdown",
   "id": "43305273",
   "metadata": {},
   "source": [
    "Q6. What file operations enable for random-access operation?\n",
    "\n",
    "The file operations enable for random access operation are seek() and tell()"
   ]
  },
  {
   "cell_type": "markdown",
   "id": "5f926900",
   "metadata": {},
   "source": [
    "Q7. When do you think you&#39;ll use the struct package the most?\n",
    "\n",
    "The struct package is mostly while converting a common python language types into C language types."
   ]
  },
  {
   "cell_type": "markdown",
   "id": "4bfe4f72",
   "metadata": {},
   "source": [
    "Q10. What is a special restriction when using the shelve package, as opposed to using other data\n",
    "dictionaries?\n",
    "\n",
    "Only string data type can be used as key in this special dictonary "
   ]
  }
 ],
 "metadata": {
  "kernelspec": {
   "display_name": "Python 3 (ipykernel)",
   "language": "python",
   "name": "python3"
  },
  "language_info": {
   "codemirror_mode": {
    "name": "ipython",
    "version": 3
   },
   "file_extension": ".py",
   "mimetype": "text/x-python",
   "name": "python",
   "nbconvert_exporter": "python",
   "pygments_lexer": "ipython3",
   "version": "3.9.7"
  }
 },
 "nbformat": 4,
 "nbformat_minor": 5
}
