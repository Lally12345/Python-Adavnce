{
 "cells": [
  {
   "cell_type": "markdown",
   "id": "bfcff6cb",
   "metadata": {},
   "source": [
    "Q1. What is the relationship between classes and modules?"
   ]
  },
  {
   "cell_type": "markdown",
   "id": "2942160b",
   "metadata": {},
   "source": [
    "\n",
    "A python class is like an outline/model/blueprint for creating a new object. An object is anything that we wist to manipulate or change while working through the code.\n",
    "whereas in python modules are simply files the .py extension containing python code that can be imported inside another python code."
   ]
  },
  {
   "cell_type": "markdown",
   "id": "53339322",
   "metadata": {},
   "source": [
    "Q2. How do you make instances and classes?\n"
   ]
  },
  {
   "cell_type": "markdown",
   "id": "30497931",
   "metadata": {},
   "source": [
    "\n",
    "sss\n",
    "For creating a class instance. we call a class by its name and pass the arguments which its  _init_ method accepts.\n"
   ]
  },
  {
   "cell_type": "markdown",
   "id": "4c9dd55f",
   "metadata": {},
   "source": [
    "Q3. Where and how should be class attributes created?\n",
    "\n",
    "Class attributes or class level attributes belong to the class itself these attributes will be shared by all the instances of the class hence these attributes are usually created/defined in the top of class defination outside all methods.\n"
   ]
  },
  {
   "cell_type": "markdown",
   "id": "c6ed7c3d",
   "metadata": {},
   "source": [
    "Q4. Where and how are instance attributes created?\n",
    "\n",
    "Instances attibutes are passed to the class when an object of the class is created. unlike class attributes instances attributes are not shared by all objects of the class all insatnces of class refer to a single copy.usually instances attributes are defined within the _init_ method f class.\n"
   ]
  },
  {
   "cell_type": "markdown",
   "id": "d9257284",
   "metadata": {},
   "source": [
    "Q5. What does the term &quot;self&quot; in a Python class mean?\n",
    "\n",
    "self represent the instance of the class. by using the \"self\" keyword we can access the atrributes and methods of the class with in the class in python it binds the attributes with given arguments.\n"
   ]
  },
  {
   "cell_type": "markdown",
   "id": "7adab946",
   "metadata": {},
   "source": [
    "Q6. How does a Python class handle operator overloading?\n",
    "\n",
    "python classes handle operator overloading by using special method called Magic method. These special methods usually begin and end with __(double undeescore)\n"
   ]
  },
  {
   "cell_type": "markdown",
   "id": "d05e6db9",
   "metadata": {},
   "source": [
    "Q8. What is the most popular form of operator overloading?\n",
    "\n",
    "The most popular form of operator overloading in python is by special method called Magic methods. it usually begins and ends with double underscore __<method name>__\n",
    "\n"
   ]
  }
 ],
 "metadata": {
  "kernelspec": {
   "display_name": "Python 3 (ipykernel)",
   "language": "python",
   "name": "python3"
  },
  "language_info": {
   "codemirror_mode": {
    "name": "ipython",
    "version": 3
   },
   "file_extension": ".py",
   "mimetype": "text/x-python",
   "name": "python",
   "nbconvert_exporter": "python",
   "pygments_lexer": "ipython3",
   "version": "3.9.7"
  }
 },
 "nbformat": 4,
 "nbformat_minor": 5
}
