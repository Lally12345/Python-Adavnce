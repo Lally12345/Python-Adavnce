{
 "cells": [
  {
   "cell_type": "markdown",
   "id": "9cce9bb8",
   "metadata": {},
   "source": [
    "1. What is the concept of an abstract superclass?\n",
    "\n",
    "An abstract class/superclass can be considered as a blueprint for other class. it allows US to create a set of method that must be created within any child classes built from the abstract class. A class which contains one or more abstract method is called an abstract class."
   ]
  },
  {
   "cell_type": "markdown",
   "id": "53068bd0",
   "metadata": {},
   "source": [
    "2. What happens when a class statement&#39;s top level contains a basic assignment statement?\n",
    "\n",
    "When a class statement top level contains a basic assignment statement, it is usually treated as a class attribute or class level variable where as  assignment statement insdide methods are treated as instance attributes or local attributes."
   ]
  },
  {
   "cell_type": "markdown",
   "id": "6fd1507c",
   "metadata": {},
   "source": [
    "3. Why does a class need to manually call a superclass&#39;s __init__ method?\n",
    "\n",
    "If a child class has \n",
    "__init__ method then it will noit inherit the __init__ method of the parent class. in other words  the __init__ method of the child class override the __init__ method of th paret class so we have manually call a parent superclass __init__ using super() method.\n"
   ]
  },
  {
   "cell_type": "markdown",
   "id": "5f810263",
   "metadata": {},
   "source": [
    "4. How can you augment, instead of completely replacing, an inherited method?\n",
    "\n",
    "Super() method can be used to augment instead of completely replacing an inherit method."
   ]
  },
  {
   "cell_type": "markdown",
   "id": "8b2b070e",
   "metadata": {},
   "source": [
    "5. How is the local scope of a class different from that of a function?\n",
    "\n",
    "A variable which is defined inside a function is local to that  function. it is accessible from the point at which it is defined unntil the end of the function and exists for as long as the function is existing."
   ]
  },
  {
   "cell_type": "code",
   "execution_count": null,
   "id": "426121d5",
   "metadata": {},
   "outputs": [],
   "source": []
  }
 ],
 "metadata": {
  "kernelspec": {
   "display_name": "Python 3 (ipykernel)",
   "language": "python",
   "name": "python3"
  },
  "language_info": {
   "codemirror_mode": {
    "name": "ipython",
    "version": 3
   },
   "file_extension": ".py",
   "mimetype": "text/x-python",
   "name": "python",
   "nbconvert_exporter": "python",
   "pygments_lexer": "ipython3",
   "version": "3.9.7"
  }
 },
 "nbformat": 4,
 "nbformat_minor": 5
}
