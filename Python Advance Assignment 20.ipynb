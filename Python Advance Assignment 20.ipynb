{
 "cells": [
  {
   "cell_type": "markdown",
   "id": "24b91a3e",
   "metadata": {},
   "source": [
    "1. Compare and contrast the float and Decimal classes&#39; benefits and drawbacks.\n",
    "\n",
    "Both the float and decimal types store numerical values in python.\n",
    "we use decimals when precision matters."
   ]
  },
  {
   "cell_type": "markdown",
   "id": "defebcab",
   "metadata": {},
   "source": [
    "2. Decimal(&#39;1.200&#39;) and Decimal(&#39;1.2&#39;) are two objects to consider. In what sense are these the same\n",
    "object? Are these just two ways of representing the exact same value, or do they correspond to\n",
    "different internal states?\n",
    "           \n",
    "\n",
    "Both values are same but internal representation at storage is different. Precsion differs decimal('1.200') gives internally 1.200 and decimal ('1.2') gives 1.2"
   ]
  },
  {
   "cell_type": "markdown",
   "id": "a41a9411",
   "metadata": {},
   "source": [
    "3. What happens if the equality of Decimal(&#39;1.200&#39;) and Decimal(&#39;1.2&#39;) is checked?\n",
    "                                           \n",
    "Both values are checked to be equal since only differ in precision.                                          "
   ]
  },
  {
   "cell_type": "markdown",
   "id": "974549f5",
   "metadata": {},
   "source": [
    "5. In an arithmetic phrase, how simple is it to combine Decimal objects with integers?\n",
    "\n",
    "we can do it with use of decimal()."
   ]
  },
  {
   "cell_type": "markdown",
   "id": "2607760a",
   "metadata": {},
   "source": [
    "7. Using the Fraction class but not the Decimal class, give an example of a quantity that can be\n",
    "expressed with absolute precision.\n",
    "\n",
    "values of 0.5 will be represented as 1/2"
   ]
  },
  {
   "cell_type": "markdown",
   "id": "dae4f99c",
   "metadata": {},
   "source": [
    "8. Describe a quantity that can be accurately expressed by the Decimal or Fraction classes but not by\n",
    "a floating-point value.\n",
    "\n",
    "both will be reduced to 1/2"
   ]
  },
  {
   "cell_type": "markdown",
   "id": "df431d3c",
   "metadata": {},
   "source": [
    "Q9.Consider the following two fraction objects: Fraction(1, 2) and Fraction(1, 2). (5, 10). Is the internal\n",
    "state of these two objects the same? Why do you think that is?\n",
    "\n",
    "\n",
    "Fraction class and integer type(int) are related in form of a container. it contains two ints, one in the numerator and other in the denominator."
   ]
  }
 ],
 "metadata": {
  "kernelspec": {
   "display_name": "Python 3 (ipykernel)",
   "language": "python",
   "name": "python3"
  },
  "language_info": {
   "codemirror_mode": {
    "name": "ipython",
    "version": 3
   },
   "file_extension": ".py",
   "mimetype": "text/x-python",
   "name": "python",
   "nbconvert_exporter": "python",
   "pygments_lexer": "ipython3",
   "version": "3.9.7"
  }
 },
 "nbformat": 4,
 "nbformat_minor": 5
}
