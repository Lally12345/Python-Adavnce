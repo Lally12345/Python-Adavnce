{
 "cells": [
  {
   "cell_type": "markdown",
   "id": "ccc4b918",
   "metadata": {},
   "source": [
    "Q1. Does assigning a value to a string&#39;s indexed character violate Python&#39;s string immutability?\n",
    "\n",
    "Strings indexed character cannot to be assigned as New value as strings are immutable."
   ]
  },
  {
   "cell_type": "markdown",
   "id": "f9b49eb7",
   "metadata": {},
   "source": [
    "Q2. Does using the += operator to concatenate strings violate Python&#39;s string immutability? Why or\n",
    "why not?\n",
    "\n",
    "+= operator is used to concatenate strings. it does not violate pythons string immutability property because doing so creates a new associations with data and variables."
   ]
  },
  {
   "cell_type": "markdown",
   "id": "e6a0c378",
   "metadata": {},
   "source": [
    "Q4. What is the relationship between indexing and slicing?\n",
    "\n",
    "We can access elements of sequence datatypes  by using slicing and indexing is used to obtaining individual elemens whil slicing for sequence of elements."
   ]
  },
  {
   "cell_type": "markdown",
   "id": "b7507737",
   "metadata": {},
   "source": [
    "Q5. What is an indexed character&#39;s exact data type? What is the data form of a slicing-generated\n",
    "substring?\n",
    "\n",
    "Indexed characters and sliced substrings have datatypes String."
   ]
  },
  {
   "cell_type": "markdown",
   "id": "9917a545",
   "metadata": {},
   "source": [
    "Q6. What is the relationship between string and character &quot;types&quot; in Python?\n",
    "\n",
    "Object that contains sequence of character datatypes are called string."
   ]
  },
  {
   "cell_type": "markdown",
   "id": "e95de2ab",
   "metadata": {},
   "source": [
    "Q9. Which operators and built-in string methods produce simple Boolean (true/false) results?\n",
    "\n",
    "The string operators and built in methods to produce simple Boolean (True/False) results."
   ]
  }
 ],
 "metadata": {
  "kernelspec": {
   "display_name": "Python 3 (ipykernel)",
   "language": "python",
   "name": "python3"
  },
  "language_info": {
   "codemirror_mode": {
    "name": "ipython",
    "version": 3
   },
   "file_extension": ".py",
   "mimetype": "text/x-python",
   "name": "python",
   "nbconvert_exporter": "python",
   "pygments_lexer": "ipython3",
   "version": "3.9.7"
  }
 },
 "nbformat": 4,
 "nbformat_minor": 5
}
