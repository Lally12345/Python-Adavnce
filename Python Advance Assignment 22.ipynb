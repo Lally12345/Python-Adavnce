{
 "cells": [
  {
   "cell_type": "markdown",
   "id": "08595d08",
   "metadata": {},
   "source": [
    "Q1. What are the benefits of the built-in array package, if any?\n",
    "\n",
    "Array represent multiple data items of the same type using a single name. in array the elements can be accessed randomlly by using the index number.Array allocate memory in continuous memory locations memory for all its elements. "
   ]
  },
  {
   "cell_type": "markdown",
   "id": "71b53f1a",
   "metadata": {},
   "source": [
    "Q2. What are some of the array package&#39;s limitations?\n",
    "\n",
    "1. Th e number of elements to be stored in an array should be known in advance \n",
    "2. Insertion and deletion are quite difficult in an array as the elements stored in memory.\n",
    "3. Allocating more memory than the requirements leads to wastage of memory space and less allocation memory."
   ]
  },
  {
   "cell_type": "markdown",
   "id": "02282701",
   "metadata": {},
   "source": [
    "Q3. Describe the main differences between the array and numpy packages.\n",
    "\n",
    "The array package doesnt rovide any help with numerical calculation with the items inside it in number from while NumPy give you a wide variety of numerical operation. "
   ]
  },
  {
   "cell_type": "markdown",
   "id": "9012d70b",
   "metadata": {},
   "source": [
    "Q4. Explain the distinctions between the empty, ones, and zeros functions.\n",
    "\n",
    "the distinctions between the empty, ones, and zeros functions\n",
    "\n",
    "1. Empty function An empty function is a function that does not contain any statement within its body.\n",
    "2. Ones: This function returns a new array of given shape and data type where the elements value is 1\n",
    "3. Zeros: This fuction returns a new array of given shape and data type where the elements value is 0."
   ]
  },
  {
   "cell_type": "markdown",
   "id": "d3452442",
   "metadata": {},
   "source": [
    "Q5. In the fromfunction function, which is used to construct new arrays, what is the role of the callable\n",
    "argument?\n",
    "\n",
    "Its function is to execute the function over each coordinate and the resulting array. The function is called with N parameters where N is the rank of shape."
   ]
  },
  {
   "cell_type": "markdown",
   "id": "768227b0",
   "metadata": {},
   "source": [
    "Q6. What happens when a numpy array is combined with a single-value operand (a scalar, such as\n",
    "an int or a floating-point value) through addition, as in the expression A + n?\n",
    "\n",
    "If any scaler value such as integer is added to the numpy array then all the elements inside the array will add that value in it."
   ]
  },
  {
   "cell_type": "markdown",
   "id": "0c647cf8",
   "metadata": {},
   "source": [
    "Q7. Can array-to-scalar operations use combined operation-assign operators (such as += or *=)?\n",
    "What is the outcome?\n",
    "\n",
    "It will carry out provided operation on all elements of array."
   ]
  },
  {
   "cell_type": "markdown",
   "id": "933a102e",
   "metadata": {},
   "source": [
    "Q8. Does a numpy array contain fixed-length strings? What happens if you allocate a longer string to\n",
    "one of these arrays?"
   ]
  },
  {
   "cell_type": "markdown",
   "id": "faa2f687",
   "metadata": {},
   "source": [
    "Q9. What happens when you combine two numpy arrays using an operation like addition (+) or\n",
    "multiplication (*)? What are the conditions for combining two numpy arrays?\n",
    "\n",
    "It will simply add or multipy elements to elements at same position."
   ]
  },
  {
   "cell_type": "markdown",
   "id": "4a92a224",
   "metadata": {},
   "source": [
    "Q10. What is the best way to use a Boolean array to mask another array?\n",
    "\n",
    "The west way to use a boolean array to mask another array is by using masked where of numpy package."
   ]
  },
  {
   "cell_type": "markdown",
   "id": "b873de7a",
   "metadata": {},
   "source": [
    "Q11. What are three different ways to get the standard deviation of a wide collection of data using\n",
    "both standard Python and its packages? Sort the three of them by how quickly they execute.\n",
    "\n",
    "std() from numpy package, stdev() from statistics package and the third way is to write our own code as done with the help of math package below."
   ]
  },
  {
   "cell_type": "markdown",
   "id": "13681645",
   "metadata": {},
   "source": [
    "12. What is the dimensionality of a Boolean mask-generated array?\n",
    "\n",
    "It will have same dimensionality as input array. masking comes up when we want to extract modify count."
   ]
  },
  {
   "cell_type": "code",
   "execution_count": null,
   "id": "5f5f6080",
   "metadata": {},
   "outputs": [],
   "source": []
  }
 ],
 "metadata": {
  "kernelspec": {
   "display_name": "Python 3 (ipykernel)",
   "language": "python",
   "name": "python3"
  },
  "language_info": {
   "codemirror_mode": {
    "name": "ipython",
    "version": 3
   },
   "file_extension": ".py",
   "mimetype": "text/x-python",
   "name": "python",
   "nbconvert_exporter": "python",
   "pygments_lexer": "ipython3",
   "version": "3.9.7"
  }
 },
 "nbformat": 4,
 "nbformat_minor": 5
}
