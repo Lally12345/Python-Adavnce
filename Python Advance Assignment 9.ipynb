{
 "cells": [
  {
   "cell_type": "markdown",
   "id": "3aa2a96b",
   "metadata": {},
   "source": [
    "Q1. In Python 3.X, what are the names and functions of string object types?\n",
    "\n",
    "The following are the names and funbnction of string object types in pythons 3.X\n",
    "\n",
    ".<string>.isdecimal()-> returns true if all characters in a string are decimal.\n",
    ".<string>.isalnum()-> returns true if all characters in the string are are Alphanumeric.\n",
    ".<string>.istitle()-> returns true if first character in a string is in uppercase.\n",
    ".<string>.partition(<sub_string>)-> splits string at first occurance of sub string and returns a tuple of 3 elements.\n"
   ]
  },
  {
   "cell_type": "markdown",
   "id": "8e4d07de",
   "metadata": {},
   "source": [
    "Q2. How do the string forms in Python 3.X vary in terms of operations?\n",
    "\n",
    "In python 3 default format of string is unicode whereas in python2 we used to explicity mention unicode value using u"
   ]
  },
  {
   "cell_type": "markdown",
   "id": "33416ebf",
   "metadata": {},
   "source": [
    "Q3. In 3.X, how do you put non-ASCII Unicode characters in a string?\n",
    "\n",
    "in python 3.x unidecode() method from unidecode library can be used to put non ASCII unicode character in a string.\n",
    "\n"
   ]
  },
  {
   "cell_type": "markdown",
   "id": "de6adeef",
   "metadata": {},
   "source": [
    "Q4. In Python 3.X, what are the key differences between text-mode and binary-mode files?\n",
    "\n",
    "The major difference between these two is that a text file contains textual information in the form of alphabets ,digits,and special character or symbols.On the other hand a inary file contains bythes or a complied version of a text file."
   ]
  },
  {
   "cell_type": "markdown",
   "id": "f76f456b",
   "metadata": {},
   "source": [
    "Q5. How can you interpret a Unicode text file containing text encoded in a different encoding than\n",
    "your platform&#39;s default?\n",
    "\n",
    "Use of encode() and decode() method can be used to you interpret a unicode text file containing text encode in a different encoding that your platforms default by default parameter is UTF-8"
   ]
  },
  {
   "cell_type": "markdown",
   "id": "311c310c",
   "metadata": {},
   "source": [
    "Q6. What is the best way to make a Unicode text file in a particular encoding format?\n",
    "\n",
    "Use str.encode() and file.write() to amke a unicode text file in a particular encoding format, default encoding format is UTF-18\n"
   ]
  },
  {
   "cell_type": "code",
   "execution_count": null,
   "id": "e3bcc71a",
   "metadata": {},
   "outputs": [],
   "source": []
  }
 ],
 "metadata": {
  "kernelspec": {
   "display_name": "Python 3 (ipykernel)",
   "language": "python",
   "name": "python3"
  },
  "language_info": {
   "codemirror_mode": {
    "name": "ipython",
    "version": 3
   },
   "file_extension": ".py",
   "mimetype": "text/x-python",
   "name": "python",
   "nbconvert_exporter": "python",
   "pygments_lexer": "ipython3",
   "version": "3.9.7"
  }
 },
 "nbformat": 4,
 "nbformat_minor": 5
}
