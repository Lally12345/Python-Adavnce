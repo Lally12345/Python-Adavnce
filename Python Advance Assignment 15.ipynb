{
 "cells": [
  {
   "cell_type": "markdown",
   "id": "134aa6f4",
   "metadata": {},
   "source": [
    "1. What are the new features added in Python 3.8 version?\n",
    "\n",
    "Walrus operator: This operator is used to assign and return a value in the same expression. this removes the need for initializing the variable upfront.\n",
    "\n",
    "Yield and return statements do not require parantheses to return multiple values.\n",
    "\n",
    "Dict comprehension has been modified so that the key is computed first and the value second."
   ]
  },
  {
   "cell_type": "markdown",
   "id": "c1473ac5",
   "metadata": {},
   "source": [
    "2. What is monkey patching in Python?\n",
    "\n",
    "In python the term monkey patch refers to making dynamic modifications to a class or module. in python we can actually change the behaviour of code at run time."
   ]
  },
  {
   "cell_type": "markdown",
   "id": "0ff0759c",
   "metadata": {},
   "source": [
    "3. What is the difference between a shallow copy and deep copy?\n",
    "\n",
    "the difference between a shallow copy and deep copy\n",
    "When an object is copied using copy(), it is called shallow copy as changes made in copied object will also make corresponding changes in original object,because both the objects will be referncing same address location."
   ]
  },
  {
   "cell_type": "markdown",
   "id": "7fcfa218",
   "metadata": {},
   "source": [
    "4. What is the maximum possible length of an identifier?\n",
    "\n",
    "In python, The highest possible length of an identifier is 97 characters.\n",
    "\n",
    "1. Python particularly when combined with identifiers is case snsitives.\n",
    "2.when writing or using identifiers in python it has  a maxiun of 79 characters.\n",
    "3.unlikely python gives the identifiers unlimited length."
   ]
  },
  {
   "cell_type": "markdown",
   "id": "cb757994",
   "metadata": {},
   "source": [
    "5. What is generator comprehension?\n",
    "\n",
    "A generator comprehension is a single line specification for defining a  generator in python\n",
    "\n",
    "1. it is absolutely essential to learn this syntx in order to write simple and readable code.\n",
    "2.Generator comprehension uses round bracket unlie square bracketin list comprehension.\n"
   ]
  },
  {
   "cell_type": "code",
   "execution_count": null,
   "id": "d6f13d8b",
   "metadata": {},
   "outputs": [],
   "source": []
  }
 ],
 "metadata": {
  "kernelspec": {
   "display_name": "Python 3 (ipykernel)",
   "language": "python",
   "name": "python3"
  },
  "language_info": {
   "codemirror_mode": {
    "name": "ipython",
    "version": 3
   },
   "file_extension": ".py",
   "mimetype": "text/x-python",
   "name": "python",
   "nbconvert_exporter": "python",
   "pygments_lexer": "ipython3",
   "version": "3.9.7"
  }
 },
 "nbformat": 4,
 "nbformat_minor": 5
}
