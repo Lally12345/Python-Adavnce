{
 "cells": [
  {
   "cell_type": "markdown",
   "id": "5b7c5f61",
   "metadata": {},
   "source": [
    "Q1. Define the relationship between a class and its instances. Is it a one-to-one or a one-to-many\n",
    "partnership, for example?\n",
    "\n",
    "Relationship between a class and its instances is a one to many parternship. object is a physical entity or real word entity an object occupies space in memory.\n",
    "e.g banana, chair, pen, etc are objects. class is a logical entity which does not exist in the real world."
   ]
  },
  {
   "cell_type": "markdown",
   "id": "0580f957",
   "metadata": {},
   "source": [
    "Q2. What kind of data is held only in an instance?\n",
    "\n",
    "Instances objects contains the instances variable which are specific to that specific instances object."
   ]
  },
  {
   "cell_type": "markdown",
   "id": "65eb4f74",
   "metadata": {},
   "source": [
    "Q3. What kind of knowledge is stored in a class?\n",
    "\n",
    "Class creates a user defined data structure which holds its own data members and member functiions, which can be accessed and used by creating an instance of the class. A class is like a blueprint for an objects."
   ]
  },
  {
   "cell_type": "markdown",
   "id": "117ac948",
   "metadata": {},
   "source": [
    "Q4. What exactly is a method, and how is it different from a regular function?"
   ]
  },
  {
   "cell_type": "markdown",
   "id": "2119cfdb",
   "metadata": {},
   "source": [
    "Q5. Is inheritance supported in Python, and if so, what is the syntax?\n",
    "\n",
    "\n",
    "Yes, python supports inheritance. the types of inheritances are\n",
    "1. Simple inheritance\n",
    "2. Multiple inheritance\n",
    "3. Multilevel inheritance\n",
    "4. Hybrid inheritance\n",
    "5. Hierracial inheritance"
   ]
  },
  {
   "cell_type": "markdown",
   "id": "a38c3ff9",
   "metadata": {},
   "source": [
    "Q6. How much encapsulation (making instance or class variables private) does Python support?\n",
    "\n",
    "Encapsulation describes the idea of wrapping data and the methods that works on data within one unit. This puts restriction on accessing variables and methods directly and can prevent the accidental modification of data."
   ]
  },
  {
   "cell_type": "markdown",
   "id": "df267bf8",
   "metadata": {},
   "source": [
    "Q7. How do you distinguish between a class variable and an instance variable?\n",
    "\n",
    "The class attribute is available to all the instance objects of that class whereas instance attributes are accessible only to the object or instanceof that class."
   ]
  },
  {
   "cell_type": "markdown",
   "id": "a85d35a3",
   "metadata": {},
   "source": [
    "Q8. When, if ever, can self be included in a class&#39;s method definitions?\n",
    "\n",
    "\n",
    "Yes self can be included in class method definations to access the instance variable inside class methods."
   ]
  },
  {
   "cell_type": "markdown",
   "id": "09177e9d",
   "metadata": {},
   "source": [
    "Q9. What is the difference between the _ _add_ _ and the _ _radd_ _ methods?\n",
    "\n",
    "\n",
    "Entering _radd_ python will first try _add_() and if that returns not implemented python will check if the right hand operand impplemets _radd_."
   ]
  },
  {
   "cell_type": "markdown",
   "id": "283cd962",
   "metadata": {},
   "source": [
    "Q10. When is it necessary to use a reflection method? When do you not need it, even though you\n",
    "support the operation in question?"
   ]
  },
  {
   "cell_type": "markdown",
   "id": "99e7396f",
   "metadata": {},
   "source": [
    "Q11. What is the _ _iadd_ _ method called?\n",
    "\n",
    "_iadd_ method is called when we use implementation like a+=b which is a._iadd_(b)"
   ]
  },
  {
   "cell_type": "markdown",
   "id": "c6743361",
   "metadata": {},
   "source": [
    "Q12. Is the _ _init_ _ method inherited by subclasses? What do you do if you need to customize its\n",
    "behavior within a subclass?\n",
    "\n",
    "Yes, _init_ method will be inherited by subclasses if we want to customize its behaviour within a subclass we can use super() method."
   ]
  }
 ],
 "metadata": {
  "kernelspec": {
   "display_name": "Python 3 (ipykernel)",
   "language": "python",
   "name": "python3"
  },
  "language_info": {
   "codemirror_mode": {
    "name": "ipython",
    "version": 3
   },
   "file_extension": ".py",
   "mimetype": "text/x-python",
   "name": "python",
   "nbconvert_exporter": "python",
   "pygments_lexer": "ipython3",
   "version": "3.9.7"
  }
 },
 "nbformat": 4,
 "nbformat_minor": 5
}
