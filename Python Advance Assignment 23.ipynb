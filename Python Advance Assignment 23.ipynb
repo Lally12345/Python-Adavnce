{
 "cells": [
  {
   "cell_type": "markdown",
   "id": "9f3eb75a",
   "metadata": {},
   "source": [
    "Q1. If you have any, what are your choices for increasing the comparison between different figures on\n",
    "the same graph?\n",
    "\n",
    "Matplotlib provides a convenient method called subplots for increasing the comparision between different figures on the same graph subplot means a group of smaller axes."
   ]
  },
  {
   "cell_type": "markdown",
   "id": "a6326c5f",
   "metadata": {},
   "source": [
    "Q2. Can you explain the benefit of compound interest over a higher rate of interest that does not\n",
    "compound after reading this chapter?\n",
    "\n",
    "Compund interest makes a sum of money grow at a faster rate than simple interest because in addition to earning returns on the money you invest, you also earn returns n those returns at the ned of every compunding periods."
   ]
  },
  {
   "cell_type": "markdown",
   "id": "0c5b8a81",
   "metadata": {},
   "source": [
    "Q3. What is a histogram, exactly? Name a numpy method for creating such a graph.\n",
    "\n",
    "Histogram shows total values of X wrt y which means at any particular position of X, Y value shows the total number of counts or data below that value of x.\n",
    "numpy.histogram() is the built in function used."
   ]
  },
  {
   "cell_type": "markdown",
   "id": "64700055",
   "metadata": {},
   "source": [
    "Q4. If necessary, how do you change the aspect ratios between the X and Y axes?\n",
    "\n",
    "we can use \n",
    "figure(figsize =(10,8))\n",
    "function inside the \n",
    "matplot.pyplot library which we scale down or up the graph."
   ]
  },
  {
   "cell_type": "markdown",
   "id": "5bc90518",
   "metadata": {},
   "source": [
    "Q5. Compare and contrast the three types of array multiplication between two numpy arrays: dot\n",
    "product, outer product, and regular multiplication of two numpy arrays.\n",
    "\n",
    "\n",
    "1.In regular multiplication values of same index get multiplied.\n",
    "2.In dot product there is row wise multiplication row of one array with column of second array and so on.\n"
   ]
  },
  {
   "cell_type": "markdown",
   "id": "d9335973",
   "metadata": {},
   "source": [
    "Q6. Before you buy a home, which numpy function will you use to measure your monthly mortgage\n",
    "payment?\n",
    "\n",
    "np.pmt(rate,nper,pv) function we will be using in order to calculate monthly mortage payment before you purchase a house."
   ]
  },
  {
   "cell_type": "markdown",
   "id": "49252ed6",
   "metadata": {},
   "source": [
    "Q7. Can string data be stored in numpy arrays? If so, list at least one restriction that applies to this\n",
    "data.\n",
    "\n",
    "\n",
    "Yes an arry can store the string. the limitation which imposed on the string data is whenever we store the data of string dtype then we should keep in mind that the string which is having the maximun length ill become the limit."
   ]
  },
  {
   "cell_type": "code",
   "execution_count": null,
   "id": "b8e938b2",
   "metadata": {},
   "outputs": [],
   "source": []
  }
 ],
 "metadata": {
  "kernelspec": {
   "display_name": "Python 3 (ipykernel)",
   "language": "python",
   "name": "python3"
  },
  "language_info": {
   "codemirror_mode": {
    "name": "ipython",
    "version": 3
   },
   "file_extension": ".py",
   "mimetype": "text/x-python",
   "name": "python",
   "nbconvert_exporter": "python",
   "pygments_lexer": "ipython3",
   "version": "3.9.7"
  }
 },
 "nbformat": 4,
 "nbformat_minor": 5
}
