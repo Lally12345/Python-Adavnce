{
 "cells": [
  {
   "cell_type": "markdown",
   "id": "6346422d",
   "metadata": {},
   "source": [
    "Q1. What is the purpose of the try statement?\n",
    "\n",
    "try staement is used for exception handling in python. it consists of a block of risk statement which might cause an exception during runtime."
   ]
  },
  {
   "cell_type": "markdown",
   "id": "e5a48811",
   "metadata": {},
   "source": [
    "Q2. What are the two most popular try statement variations?\n",
    "\n",
    "The popular try statement variations are.\n",
    "\n",
    "1.try, except\n",
    "2.try, except,finally\n",
    "3.try,except, finally, else"
   ]
  },
  {
   "cell_type": "markdown",
   "id": "33a3372c",
   "metadata": {},
   "source": [
    "Q3. What is the purpose of the raise statement?\n",
    "\n",
    "raise statement is used to trigger an exception explicity if a certain condition is not as per requirement of programmer.\n",
    "raise statement helps in triggering exceptionas per programming logic."
   ]
  },
  {
   "cell_type": "markdown",
   "id": "ee6ea8f0",
   "metadata": {},
   "source": [
    "Q4. What does the assert statement do, and what other statement is it like?\n",
    "\n",
    "There are few asserations that programmer always want to be true true to avoid code failure. this type of requirement is fulfilled by assert astatement."
   ]
  }
 ],
 "metadata": {
  "kernelspec": {
   "display_name": "Python 3 (ipykernel)",
   "language": "python",
   "name": "python3"
  },
  "language_info": {
   "codemirror_mode": {
    "name": "ipython",
    "version": 3
   },
   "file_extension": ".py",
   "mimetype": "text/x-python",
   "name": "python",
   "nbconvert_exporter": "python",
   "pygments_lexer": "ipython3",
   "version": "3.9.7"
  }
 },
 "nbformat": 4,
 "nbformat_minor": 5
}
