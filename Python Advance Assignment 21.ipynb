{
 "cells": [
  {
   "cell_type": "markdown",
   "id": "5becd6ce",
   "metadata": {},
   "source": [
    "Q1. What is a probability distribution, exactly? If the values are meant to be random, how can you\n",
    "predict them at all?\n",
    "\n",
    "It tells us which values a random variable is most likely to take on and which values are less likely based on the previous data and the occurance of the random event."
   ]
  },
  {
   "cell_type": "markdown",
   "id": "f990a7a5",
   "metadata": {},
   "source": [
    "Q3. What are the two main factors that influence the behaviour of a &quot;normal&quot; probability distribution?\n",
    "\n",
    "Normal probability distribution and influence by two factors mean and variance."
   ]
  },
  {
   "cell_type": "markdown",
   "id": "21d8a702",
   "metadata": {},
   "source": [
    "Q6. What kind of object can be shuffled by using random.shuffle?\n",
    "\n",
    "lists(list).string (str) and tuples (tuple) objects can be shuffled by using random.shuffle"
   ]
  },
  {
   "cell_type": "markdown",
   "id": "d4e772c7",
   "metadata": {},
   "source": [
    "Q7. Describe the math package&#39;s general categories of functions.\n",
    "\n",
    "The math packages general categories of function are\n",
    "\n",
    "1.Trigonometric functions\n",
    "2.quadratic functions\n",
    "3.exponential functions\n",
    "4.periodic functions\n",
    "5.Arthematic functions\n",
    "6.conversions to integer"
   ]
  },
  {
   "cell_type": "markdown",
   "id": "3f280c6a",
   "metadata": {},
   "source": [
    "Q8. What is the relationship between exponentiation and logarithms?\n",
    "\n",
    "Exponentiation and logarithms are inverse of each other."
   ]
  }
 ],
 "metadata": {
  "kernelspec": {
   "display_name": "Python 3 (ipykernel)",
   "language": "python",
   "name": "python3"
  },
  "language_info": {
   "codemirror_mode": {
    "name": "ipython",
    "version": 3
   },
   "file_extension": ".py",
   "mimetype": "text/x-python",
   "name": "python",
   "nbconvert_exporter": "python",
   "pygments_lexer": "ipython3",
   "version": "3.9.7"
  }
 },
 "nbformat": 4,
 "nbformat_minor": 5
}
