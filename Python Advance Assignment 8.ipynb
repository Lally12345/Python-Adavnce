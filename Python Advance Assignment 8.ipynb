{
 "cells": [
  {
   "cell_type": "markdown",
   "id": "521a98f5",
   "metadata": {},
   "source": [
    "Q1. What are the two latest user-defined exception constraints in Python 3.X?\n",
    "\n",
    "raise and assert are the two latest user defined exception constartions in python 3.X\n"
   ]
  },
  {
   "cell_type": "markdown",
   "id": "d52ed451",
   "metadata": {},
   "source": [
    "Q2. How are class-based exceptions that have been raised matched to handlers?\n",
    "\n",
    "In python users can define custon by creating a new class this exception class has to be derived, either directly or indirectly from built in exception class."
   ]
  },
  {
   "cell_type": "markdown",
   "id": "742b3955",
   "metadata": {},
   "source": [
    "Q3. Describe two methods for attaching context information to exception artefacts.\n",
    "\n",
    "The process() method of loggeradapter is where the contextual information is added to the logging output. its passes the message and keyword argument of the logging call, and it passes back modified versionof these to use i the call to the underlying logger."
   ]
  },
  {
   "cell_type": "markdown",
   "id": "89cc78d5",
   "metadata": {},
   "source": [
    "Q5. Why do you no longer use string-based exceptions?\n",
    "\n",
    "String based exception does not inherit from exception, so plain exception catch all exceptions and not only system."
   ]
  }
 ],
 "metadata": {
  "kernelspec": {
   "display_name": "Python 3 (ipykernel)",
   "language": "python",
   "name": "python3"
  },
  "language_info": {
   "codemirror_mode": {
    "name": "ipython",
    "version": 3
   },
   "file_extension": ".py",
   "mimetype": "text/x-python",
   "name": "python",
   "nbconvert_exporter": "python",
   "pygments_lexer": "ipython3",
   "version": "3.9.7"
  }
 },
 "nbformat": 4,
 "nbformat_minor": 5
}
