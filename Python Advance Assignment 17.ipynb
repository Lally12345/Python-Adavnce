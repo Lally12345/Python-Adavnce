{
 "cells": [
  {
   "cell_type": "markdown",
   "id": "ad794d0d",
   "metadata": {},
   "source": [
    "Q1. Explain the difference between greedy and non-greedy syntax with visual terms in as few words\n",
    "as possible. What is the bare minimum effort required to transform a greedy pattern into a non-greedy\n",
    "one? What characters or characters can you introduce or change?\n",
    "\n",
    "The main difference between greedy and non greedy match syntax is that the greedy match will try to match as many repetition of the qualified patterns as possible whereas the non greedy match will try to match as few repetition of the qualified pattern as possible so that it still can match the pattern in the given string."
   ]
  },
  {
   "cell_type": "markdown",
   "id": "c25dd4eb",
   "metadata": {},
   "source": [
    "Q2. When exactly does greedy versus non-greedy make a difference?  What if you&#39;re looking for a\n",
    "non-greedy match but the only one available is greedy?\n",
    "\n",
    "The greedy match will try to match as many repetation of the quantified pattern as possible. The non geedy match will try to match as few repetition of the quantified patterns as possible "
   ]
  },
  {
   "cell_type": "markdown",
   "id": "a5f8d254",
   "metadata": {},
   "source": [
    "Q3. In a simple match of a string, which looks only for one match and does not do any replacement, is\n",
    "the use of a nontagged group likely to make any practical difference?\n",
    "\n",
    "In this case the non tagged group will not make any difference."
   ]
  },
  {
   "cell_type": "markdown",
   "id": "3262019e",
   "metadata": {},
   "source": [
    "Q4. Describe a scenario in which using a nontagged category would have a significant impact on the\n",
    "program&#39;s outcomes.\n",
    "\n",
    "\n",
    "Here in the below code snippet . decimal is not tagged or captured. Hence it will be useful in scenarios where the separator of value in a string is of no use and we need to capture only the values."
   ]
  },
  {
   "cell_type": "markdown",
   "id": "7fe341b4",
   "metadata": {},
   "source": [
    "Q5. Unlike a normal regex pattern, a look-ahead condition does not consume the characters it\n",
    "examines. Describe a situation in which this could make a difference in the results of your\n",
    "programme.\n",
    "\n",
    "While countingthe number of multiple lines or multiple sentences in a string, the positive look ahead makes a difference without which we will not be able to get the correct count of lines."
   ]
  },
  {
   "cell_type": "markdown",
   "id": "28c92d21",
   "metadata": {},
   "source": [
    "Q6. In standard expressions, what is the difference between positive look-ahead and negative look-\n",
    "ahead?\n",
    "\n",
    "Positive look ahead allows to add a condition for what follows. Negative lookahead is similar but it looks behind that is it allows to match a pattern only."
   ]
  },
  {
   "cell_type": "markdown",
   "id": "f6a707ac",
   "metadata": {},
   "source": [
    "Q7. What is the benefit of referring to groups by name rather than by number in a standard\n",
    "expression?\n",
    "\n",
    "The Advantage to named group is that it adds readability and understandability to the code, so that you can easily see what part of a regular  expression match is being preferenced."
   ]
  },
  {
   "cell_type": "markdown",
   "id": "b24da230",
   "metadata": {},
   "source": [
    "Q8. Can you identify repeated items within a target string using named groups, as in &quot;The cow\n",
    "jumped over the moon&quot;?"
   ]
  },
  {
   "cell_type": "markdown",
   "id": "21502e23",
   "metadata": {},
   "source": [
    "Q9. When parsing a string, what is at least one thing that the Scanner interface does for you that the\n",
    "re.findall feature does not?"
   ]
  },
  {
   "cell_type": "markdown",
   "id": "3b91b8c9",
   "metadata": {},
   "source": [
    "Q10. Does a scanner object have to be named scanner?\n",
    "\n",
    "\n",
    "No, it may have any name for example instead of naming scanner object as scanner we can namesas sc."
   ]
  },
  {
   "cell_type": "code",
   "execution_count": null,
   "id": "0c87cb37",
   "metadata": {},
   "outputs": [],
   "source": []
  }
 ],
 "metadata": {
  "kernelspec": {
   "display_name": "Python 3 (ipykernel)",
   "language": "python",
   "name": "python3"
  },
  "language_info": {
   "codemirror_mode": {
    "name": "ipython",
    "version": 3
   },
   "file_extension": ".py",
   "mimetype": "text/x-python",
   "name": "python",
   "nbconvert_exporter": "python",
   "pygments_lexer": "ipython3",
   "version": "3.9.7"
  }
 },
 "nbformat": 4,
 "nbformat_minor": 5
}
