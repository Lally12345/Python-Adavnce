{
 "cells": [
  {
   "cell_type": "markdown",
   "id": "afe4c373",
   "metadata": {},
   "source": [
    "Q2. Describe the difference between the effects of &quot;(ab)c+&quot; and &quot;a(bc)+.&quot; Which of these, if any, is the\n",
    "unqualified pattern &quot;abc+&quot;?\n",
    "\n",
    "the difference between both these pattern is that in (ab)c+ ab is a group capturing groups are a way to treat multiple characters as a single unit.\n"
   ]
  },
  {
   "cell_type": "markdown",
   "id": "d466ef37",
   "metadata": {},
   "source": [
    "Q3. How much do you need to use the following sentence while using regular expressions?\n",
    "\n",
    "import re\n",
    "\n",
    "import re statement always has to be imported before using reqular expression in a programm we need to import this \n"
   ]
  },
  {
   "cell_type": "markdown",
   "id": "afd64684",
   "metadata": {},
   "source": [
    "Q5. How does compiling a regular-expression object benefit you?\n",
    "\n",
    "we can combine a regular expression pattern into pattern object which can be used for pattern matching."
   ]
  },
  {
   "cell_type": "markdown",
   "id": "b1adaa2f",
   "metadata": {},
   "source": [
    "Q6. What are some examples of how to use the match object returned by re.match and re.search?\n",
    "\n",
    "the re.search() and re.match both are the functuion of re module in python. These functions are very efficient and fast for searching in strings."
   ]
  },
  {
   "cell_type": "markdown",
   "id": "4a630ba9",
   "metadata": {},
   "source": [
    "Q8. In regular-expression search patterns, why is it necessary to use the raw-string indicator (r)? In  \n",
    "replacement strings?"
   ]
  },
  {
   "cell_type": "code",
   "execution_count": null,
   "id": "47572373",
   "metadata": {},
   "outputs": [],
   "source": []
  }
 ],
 "metadata": {
  "kernelspec": {
   "display_name": "Python 3 (ipykernel)",
   "language": "python",
   "name": "python3"
  },
  "language_info": {
   "codemirror_mode": {
    "name": "ipython",
    "version": 3
   },
   "file_extension": ".py",
   "mimetype": "text/x-python",
   "name": "python",
   "nbconvert_exporter": "python",
   "pygments_lexer": "ipython3",
   "version": "3.9.7"
  }
 },
 "nbformat": 4,
 "nbformat_minor": 5
}
